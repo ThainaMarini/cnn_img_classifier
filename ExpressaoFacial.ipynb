{
  "cells": [
    {
      "cell_type": "code",
      "execution_count": null,
      "metadata": {
        "id": "gFf8LEYOsKr1"
      },
      "outputs": [],
      "source": [
        "# Importação de bibliotecas\n",
        "import tensorflow as tf\n",
        "from pathlib import Path\n",
        "from tensorflow.keras.applications import InceptionV3\n",
        "from tensorflow.keras.models import Model\n",
        "from tensorflow.keras.layers import Dense, GlobalAveragePooling2D\n",
        "from tensorflow.keras.preprocessing.image import ImageDataGenerator\n",
        "from tensorflow.keras.optimizers import Adam\n",
        "from sklearn.metrics import accuracy_score, classification_report, confusion_matrix\n",
        "from tensorflow.keras.layers import Dropout"
      ]
    },
    {
      "cell_type": "code",
      "execution_count": null,
      "metadata": {
        "id": "RB-db88hsQk6"
      },
      "outputs": [],
      "source": [
        "# Diretórios para dados de treinamento, validação e teste\n",
        "path = Path(\"Expressao facial\")\n",
        "train_data_dir = path/'train'\n",
        "validation_data_dir = path/'val'\n",
        "test_data_dir = path/'test'"
      ]
    },
    {
      "cell_type": "code",
      "execution_count": null,
      "metadata": {
        "id": "1i3OpA9wsS37"
      },
      "outputs": [],
      "source": [
        "# Dimensões das imagens e número de classes\n",
        "img_width, img_height = 322, 322\n",
        "num_classes = 3"
      ]
    },
    {
      "cell_type": "code",
      "execution_count": null,
      "metadata": {
        "id": "_k5-TcgWsUGY"
      },
      "outputs": [],
      "source": [
        "# Hiperparâmetros\n",
        "batch_size = 16 # Numero de imagens por lote de treinamento\n",
        "epochs = 15"
      ]
    },
    {
      "cell_type": "code",
      "execution_count": null,
      "metadata": {
        "id": "PuGvHZUhsVRQ"
      },
      "outputs": [],
      "source": [
        "# Rescale = redimensiona os valores dos pixels para o intervalo [0, 1]\n",
        "# Instancias do ImageDataGenerator são criadas para pré-processamento dos dados\n",
        "train_datagen = ImageDataGenerator(rescale=1.0/255.0)\n",
        "validation_datagen = ImageDataGenerator(rescale=1.0/255.0)\n",
        "test_datagen = ImageDataGenerator(rescale=1.0/255.0)"
      ]
    },
    {
      "cell_type": "code",
      "execution_count": null,
      "metadata": {
        "id": "dFMt9E1isVMU"
      },
      "outputs": [],
      "source": [
        "# Carregamento e pré-processamento dos dados de treinamento\n",
        "train_generator = train_datagen.flow_from_directory(\n",
        "    train_data_dir,\n",
        "    target_size=(img_width, img_height),\n",
        "    batch_size=batch_size,\n",
        "    class_mode='categorical',\n",
        "    color_mode='rgb'  # Defina para 'rgb' para imagens coloridas, apesar da imagem estar em escala de cinza, a inceptionV3 espera uma imagem colorida\n",
        ")"
      ]
    },
    {
      "cell_type": "code",
      "execution_count": null,
      "metadata": {
        "id": "oYH-bv_GsYXS"
      },
      "outputs": [],
      "source": [
        "# Carregamento e pré-processamento dos dados de validação\n",
        "validation_generator = validation_datagen.flow_from_directory(\n",
        "    validation_data_dir,\n",
        "    target_size=(img_width, img_height),\n",
        "    batch_size=batch_size,\n",
        "    class_mode='categorical',\n",
        "    color_mode='rgb'\n",
        ")\n"
      ]
    },
    {
      "cell_type": "code",
      "execution_count": null,
      "metadata": {
        "id": "cTWHAxv5sZt8"
      },
      "outputs": [],
      "source": [
        "# Carregamento e pré-processamento dos dados de teste\n",
        "test_generator = test_datagen.flow_from_directory(\n",
        "    test_data_dir,\n",
        "    target_size=(img_width, img_height),\n",
        "    batch_size=batch_size,\n",
        "    shuffle=False,\n",
        "    class_mode='categorical',\n",
        "    color_mode='rgb'\n",
        ")"
      ]
    },
    {
      "cell_type": "code",
      "execution_count": null,
      "metadata": {
        "id": "5_QMhQRGsa6u"
      },
      "outputs": [],
      "source": [
        "# Carregar InceptionV3 pré-treinado\n",
        "base_model = InceptionV3(weights='imagenet', include_top=False)"
      ]
    },
    {
      "cell_type": "code",
      "execution_count": null,
      "metadata": {
        "id": "mk1U5kJQscKr"
      },
      "outputs": [],
      "source": [
        "# Adicionar camadas personalizadas no topo do InceptionV3\n",
        "model = base_model.output\n",
        "model = GlobalAveragePooling2D()(model)\n",
        "model = Dense(128,activation='relu')(model)\n",
        "model = Dropout(0.15)(model)\n",
        "model = Dense(256,activation='relu')(model)\n",
        "model = Dropout(0.15)(model)\n",
        "model = Dense(524,activation='relu')(model)\n",
        "model = Dropout(0.15)(model)\n",
        "model = Dense(num_classes, activation='softmax')(model)\n",
        "model = Model(inputs=base_model.input, outputs=model)\n",
        "\n",
        "model.summary()"
      ]
    },
    {
      "cell_type": "code",
      "execution_count": null,
      "metadata": {
        "id": "lguRuK4csdpM"
      },
      "outputs": [],
      "source": [
        "# Compilar o modelo\n",
        "model.compile(optimizer=Adam(learning_rate=0.0001), loss='categorical_crossentropy', metrics=['accuracy'])"
      ]
    },
    {
      "cell_type": "code",
      "execution_count": null,
      "metadata": {
        "id": "gmxtVy4csfX_"
      },
      "outputs": [],
      "source": [
        "# Treinamento do modelo com validacao\n",
        "history = model.fit(\n",
        "    train_generator,\n",
        "    steps_per_epoch=train_generator.samples // batch_size,\n",
        "    epochs=epochs,\n",
        "    validation_data=validation_generator,\n",
        "    validation_steps=validation_generator.samples // batch_size\n",
        ")"
      ]
    },
    {
      "cell_type": "code",
      "execution_count": null,
      "metadata": {
        "id": "VKEAkFn8shQK"
      },
      "outputs": [],
      "source": [
        "# Dicionario que mapeia as classes\n",
        "class_indices = {\n",
        "    'happy': 0,\n",
        "    'sad': 1,\n",
        "    'surprise': 2\n",
        "}"
      ]
    },
    {
      "cell_type": "code",
      "execution_count": null,
      "metadata": {
        "id": "kBYf0QOAsiXu"
      },
      "outputs": [],
      "source": [
        "# Associa o dicionario ao gerador de teste\n",
        "test_generator.class_indices = class_indices"
      ]
    },
    {
      "cell_type": "code",
      "execution_count": null,
      "metadata": {
        "id": "BO9-lRn6skOB"
      },
      "outputs": [],
      "source": [
        "# Mapeia indices de classe para nomes de classe\n",
        "class_names = {v: k for k, v in test_generator.class_indices.items()}"
      ]
    },
    {
      "cell_type": "code",
      "execution_count": null,
      "metadata": {
        "id": "0Q8dXumAslJW"
      },
      "outputs": [],
      "source": [
        "# Avaliacao do modelo no conjunto de teste\n",
        "y_true = test_generator.classes\n",
        "y_pred = model.predict(test_generator)\n",
        "y_pred_classes = [tf.argmax(x).numpy() for x in y_pred]"
      ]
    },
    {
      "cell_type": "code",
      "execution_count": null,
      "metadata": {
        "id": "WEFpPk_YsmJf"
      },
      "outputs": [],
      "source": [
        "# Calcula metricas\n",
        "accuracy = accuracy_score(y_true, y_pred_classes)\n",
        "confusion = confusion_matrix(y_true, y_pred_classes)\n",
        "classification_rep = classification_report(y_true, y_pred_classes, target_names=class_names.values(), digits=4)\n",
        "\n",
        "print(f'Test Accuracy: {accuracy}')\n",
        "print(f'Confusion Matrix:\\n{confusion}')\n",
        "print(f'Classification Report:\\n{classification_rep}')"
      ]
    },
    {
      "cell_type": "code",
      "execution_count": null,
      "metadata": {
        "id": "IIbZ7izasn4g"
      },
      "outputs": [],
      "source": [
        "# Salvando o modelo treinado\n",
        "model.save('inceptionrostos.h5')"
      ]
    }
  ],
  "metadata": {
    "colab": {
      "provenance": []
    },
    "kernelspec": {
      "display_name": "Python 3",
      "name": "python3"
    },
    "language_info": {
      "name": "python"
    }
  },
  "nbformat": 4,
  "nbformat_minor": 0
}
