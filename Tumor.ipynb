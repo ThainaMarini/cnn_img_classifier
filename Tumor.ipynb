{
  "cells": [
    {
      "cell_type": "code",
      "execution_count": null,
      "metadata": {
        "id": "JMGDyCovy1Ls"
      },
      "outputs": [],
      "source": [
        "# Importação de bibliotecas\n",
        "import tensorflow as tf\n",
        "import matplotlib.pyplot as plt\n",
        "from pathlib import Path\n",
        "import numpy as np\n",
        "from tensorflow.keras.models import Sequential\n",
        "from tensorflow.keras.layers import Conv2D, MaxPooling2D, Flatten, Dense, Dropout\n",
        "from tensorflow.keras.preprocessing.image import ImageDataGenerator\n",
        "from tensorflow.keras.optimizers import Adam\n",
        "from sklearn.metrics import accuracy_score, classification_report, confusion_matrix"
      ]
    },
    {
      "cell_type": "code",
      "execution_count": null,
      "metadata": {
        "id": "f2-t2k_z37-8"
      },
      "outputs": [],
      "source": [
        "# Diretórios para dados de treinamento, validação e teste\n",
        "path = Path(\"Expressao facial\")\n",
        "train_data_dir = path/'train'\n",
        "validation_data_dir = path/'val'\n",
        "test_data_dir = path/'test'"
      ]
    },
    {
      "cell_type": "code",
      "execution_count": null,
      "metadata": {
        "id": "CaOUMHlQ39x1"
      },
      "outputs": [],
      "source": [
        "# Dimensões das imagens e número de classes\n",
        "img_width, img_height = 512, 512\n",
        "num_classes = 4"
      ]
    },
    {
      "cell_type": "code",
      "execution_count": null,
      "metadata": {
        "id": "VbYSqJxG4AzJ"
      },
      "outputs": [],
      "source": [
        "# Hiperparâmetros\n",
        "batch_size = 10 # Tamanho de imagens de lote de treinamento\n",
        "epochs = 15 # Épocas"
      ]
    },
    {
      "cell_type": "code",
      "execution_count": null,
      "metadata": {
        "id": "Sm9MHWNf4B1O"
      },
      "outputs": [],
      "source": [
        "# Rescale = redimensiona os valores dos pixels para o intervalo [0, 1]\n",
        "# Cria uma instancia da classe ImageDataGnerator, para pré-processamento dos dados\n",
        "train_datagen = ImageDataGenerator(rescale=1.0/255.0)\n",
        "validation_datagen = ImageDataGenerator(rescale=1.0/255.0)\n",
        "test_datagen = ImageDataGenerator(rescale=1.0/255.0)"
      ]
    },
    {
      "cell_type": "code",
      "execution_count": null,
      "metadata": {
        "colab": {
          "base_uri": "https://localhost:8080/"
        },
        "id": "tpRAolg14Dor",
        "outputId": "5c5b9c5d-f17e-4d22-dfa5-5d77e060b287"
      },
      "outputs": [
        {
          "name": "stdout",
          "output_type": "stream",
          "text": [
            "Found 5157 images belonging to 4 classes.\n",
            "Found 2501 images belonging to 4 classes.\n",
            "Found 2461 images belonging to 4 classes.\n"
          ]
        }
      ],
      "source": [
        "# Carregamento e pré-processamento dos dados de treinamento\n",
        "train_generator = train_datagen.flow_from_directory(\n",
        "    train_data_dir,\n",
        "    target_size=(img_width, img_height),\n",
        "    batch_size=batch_size,\n",
        "    class_mode='categorical', # Define que é multiclasses\n",
        "    color_mode='grayscale'  # Definindo para imagens em escala de cinza\n",
        ")\n",
        "\n",
        "# Carregamento e pré-processamento dos dados de validação\n",
        "validation_generator = validation_datagen.flow_from_directory(\n",
        "    validation_data_dir,\n",
        "    target_size=(img_width, img_height),\n",
        "    batch_size=batch_size,\n",
        "    class_mode='categorical', # Define que é multiclasses\n",
        "    color_mode='grayscale'  # Definindo para imagens em escala de cinza\n",
        ")\n",
        "\n",
        "# Carregamento e pré-processamento dos dados de teste\n",
        "test_generator = test_datagen.flow_from_directory(\n",
        "    test_data_dir,\n",
        "    target_size=(img_width, img_height),\n",
        "    batch_size=batch_size,\n",
        "    shuffle=False,\n",
        "    class_mode='categorical', # Define que é multiclasses\n",
        "    color_mode='grayscale'  # Definindo para imagens em escala de cinza\n",
        ")"
      ]
    },
    {
      "cell_type": "code",
      "execution_count": null,
      "metadata": {
        "id": "ZTB5b1oH4HYD"
      },
      "outputs": [],
      "source": [
        "# Definindo o modelo CNN\n",
        "model = Sequential()\n",
        "model.add(Conv2D(32,(5,5),activation=\"relu\",input_shape=(img_width,img_height,1)))\n",
        "model.add(Conv2D(32,(3,3),activation=\"relu\"))\n",
        "model.add(Conv2D(32,(3,3),activation=\"relu\"))\n",
        "model.add(MaxPooling2D((2,2)))\n",
        "model.add(Dropout(0.3))\n",
        "\n",
        "model.add(Conv2D(64,(3,3),activation=\"relu\"))\n",
        "model.add(Conv2D(64,(3,3),activation=\"relu\"))\n",
        "model.add(MaxPooling2D((2,2)))\n",
        "model.add(Dropout(0.3))\n",
        "\n",
        "model.add(Conv2D(128,(3,3),activation=\"relu\"))\n",
        "model.add(Conv2D(128,(3,3),activation=\"relu\"))\n",
        "model.add(MaxPooling2D((2,2)))\n",
        "model.add(Dropout(0.2))\n",
        "\n",
        "model.add(Conv2D(256,(3,3),activation=\"relu\"))\n",
        "model.add(Conv2D(256,(3,3),activation=\"relu\"))\n",
        "model.add(MaxPooling2D((2,2)))\n",
        "model.add(Dropout(0.2))\n",
        "\n",
        "model.add(Flatten())\n",
        "model.add(Dropout(0.5))\n",
        "model.add(Dense(800,activation=\"relu\"))\n",
        "model.add(Dense(num_classes,activation=\"softmax\"))\n",
        "\n",
        "model.compile(optimizer=Adam(learning_rate=0.0001), loss='categorical_crossentropy', metrics=['accuracy'])"
      ]
    },
    {
      "cell_type": "code",
      "execution_count": null,
      "metadata": {
        "colab": {
          "base_uri": "https://localhost:8080/",
          "height": 446
        },
        "id": "nwPdDRz34L2R",
        "outputId": "69b27b1a-5f88-4ae1-9244-75c71da1ed08"
      },
      "outputs": [],
      "source": [
        "# Treinamento do modelo com validacao\n",
        "history = model.fit(\n",
        "    train_generator,\n",
        "    steps_per_epoch=train_generator.samples // batch_size,\n",
        "    epochs=epochs,\n",
        "    validation_data=validation_generator,\n",
        "    validation_steps=validation_generator.samples // batch_size\n",
        ")"
      ]
    },
    {
      "cell_type": "code",
      "execution_count": null,
      "metadata": {
        "id": "KBR-JMHN4OJt"
      },
      "outputs": [],
      "source": [
        "# Dicionario que mapeia as classes\n",
        "class_indices = {\n",
        "    'glioma_tumor': 0,\n",
        "    'meningioma_tumor': 1,\n",
        "    'no_tumor': 2,\n",
        "    'pituitary_tumor': 3\n",
        "}"
      ]
    },
    {
      "cell_type": "code",
      "execution_count": null,
      "metadata": {
        "id": "Q8g3CIOU4RsZ"
      },
      "outputs": [],
      "source": [
        "# Associa o dicionario ao gerador de teste\n",
        "test_generator.class_indices = class_indices\n"
      ]
    },
    {
      "cell_type": "code",
      "execution_count": null,
      "metadata": {
        "id": "otTqnjcY4SZt"
      },
      "outputs": [],
      "source": [
        "# Mapeia indices de classe para nomes de classe\n",
        "class_names = {v: k for k, v in test_generator.class_indices.items()}"
      ]
    },
    {
      "cell_type": "code",
      "execution_count": null,
      "metadata": {
        "id": "qYwdmG4r4T-V"
      },
      "outputs": [],
      "source": [
        "# Avaliacao do modelo no conjunto de teste\n",
        "y_true = test_generator.classes\n",
        "y_pred = model.predict(test_generator)\n",
        "y_pred_classes = [tf.argmax(x).numpy() for x in y_pred]"
      ]
    },
    {
      "cell_type": "code",
      "execution_count": null,
      "metadata": {
        "id": "NfwFxXar4V5I"
      },
      "outputs": [],
      "source": [
        "# Calcula metricas\n",
        "accuracy = accuracy_score(y_true, y_pred_classes)\n",
        "confusion = confusion_matrix(y_true, y_pred_classes)\n",
        "classification_rep = classification_report(y_true, y_pred_classes, target_names=class_names.values(), digits=4)\n",
        "\n",
        "print(f'Test Accuracy: {accuracy}')\n",
        "print(f'Confusion Matrix:\\n{confusion}')\n",
        "print(f'Classification Report:\\n{classification_rep}')"
      ]
    },
    {
      "cell_type": "code",
      "execution_count": null,
      "metadata": {
        "id": "xrm3urIM4X_h"
      },
      "outputs": [],
      "source": [
        "\n",
        "# Salvando o modelo treinado\n",
        "model.save('Tumor.h5')"
      ]
    }
  ],
  "metadata": {
    "colab": {
      "provenance": []
    },
    "kernelspec": {
      "display_name": "Python 3",
      "name": "python3"
    },
    "language_info": {
      "name": "python"
    }
  },
  "nbformat": 4,
  "nbformat_minor": 0
}
